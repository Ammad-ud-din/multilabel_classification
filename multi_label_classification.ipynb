{
 "cells": [
  {
   "cell_type": "markdown",
   "metadata": {},
   "source": [
    "Author: Muhammad Ammad-ud-din\n",
    "\n",
    "Place: Helsinki, Finland"
   ]
  },
  {
   "cell_type": "markdown",
   "metadata": {},
   "source": [
    "Classification is a machine learning problem where the goal is to learn a discriminative model (function and its parameters) in a supervised setting: Given a set of samples having multi-dimensional features, for which outcome measurements exist, predict the outcome for a new sample. The development of robust and efficient predictve techniques is a two-fold data science approach: (1) data exploration, (2) machine learning model selection and evaluation.\n",
    "\n",
    "As a first step, exploratory analysis of the data is essential to gain insights into the problem as well as into the data and to identify the underlying modeling challenges. Moreover, data exploration also helps to formulate the appropriate modeling assumptions and experimental design while considering the resources at hand. As a second step, selection of the optimal model is crucial such that it generalizes to the new data. The optimal model can be selected based on the performance metric obtained through rigorous evaluation of the modeling assumptions with a principled experimental design."
   ]
  },
  {
   "cell_type": "code",
   "execution_count": 55,
   "metadata": {},
   "outputs": [],
   "source": [
    "import numpy as np\n",
    "import pandas as pd\n",
    "import copy\n",
    "import tensorflow as tf\n",
    "\n",
    "from scipy import interp\n",
    "from scipy.stats import randint as sp_randint\n",
    "from scipy.stats import uniform as sp_randuni\n",
    "from keras.models import Sequential\n",
    "from keras.layers import Dense\n",
    "from keras.wrappers.scikit_learn import KerasClassifier\n",
    "from keras.utils import np_utils\n",
    "from sklearn.model_selection import cross_val_score\n",
    "from sklearn.model_selection import KFold, StratifiedKFold\n",
    "from sklearn.preprocessing import LabelEncoder\n",
    "from sklearn.pipeline import Pipeline\n",
    "from sklearn.decomposition import PCA, KernelPCA\n",
    "from sklearn.neighbors import KNeighborsClassifier\n",
    "from sklearn.ensemble import RandomForestClassifier\n",
    "from sklearn.ensemble import GradientBoostingClassifier\n",
    "from sklearn.linear_model import SGDClassifier, LogisticRegression\n",
    "from sklearn.svm import SVC\n",
    "from sklearn.metrics import accuracy_score\n",
    "from sklearn.model_selection import train_test_split, RandomizedSearchCV\n",
    "import matplotlib.pyplot as plt\n",
    "import seaborn as sns\n",
    "\n",
    "import pickle as cpickle\n",
    "\n",
    "%matplotlib inline\n",
    "import requests, json\n",
    "\n",
    "from flask import Flask, abort, jsonify, request\n",
    "RANDOM_STATE = 1707"
   ]
  },
  {
   "cell_type": "code",
   "execution_count": 2,
   "metadata": {},
   "outputs": [],
   "source": [
    "def hamming_score(y_true, y_pred, normalize=True, sample_weight=None):\n",
    "    '''\n",
    "    Compute the Hamming score (a.k.a. label-based accuracy) for the multi-label case\n",
    "    http://stackoverflow.com/q/32239577/395857\n",
    "    '''\n",
    "    acc_list = []\n",
    "    for i in range(y_true.shape[0]):\n",
    "        set_true = set( np.where(y_true[i])[0] )\n",
    "        set_pred = set( np.where(y_pred[i])[0] )\n",
    "        #print('\\nset_true: {0}'.format(set_true))\n",
    "        #print('set_pred: {0}'.format(set_pred))\n",
    "        tmp_a = None\n",
    "        if len(set_true) == 0 and len(set_pred) == 0:\n",
    "            tmp_a = 1\n",
    "        else:\n",
    "            tmp_a = len(set_true.intersection(set_pred))/\\\n",
    "                    float( len(set_true.union(set_pred)) )\n",
    "        #print('tmp_a: {0}'.format(tmp_a))\n",
    "        acc_list.append(tmp_a)\n",
    "    return np.mean(acc_list)"
   ]
  },
  {
   "cell_type": "code",
   "execution_count": 3,
   "metadata": {},
   "outputs": [],
   "source": [
    "try:\n",
    "    xTrain = pd.read_csv(\"x_train.csv\", header=None,na_values=[' '])\n",
    "    xTest = pd.read_csv(\"x_test.csv\", header=None,na_values=[' '])\n",
    "    yTrain = pd.read_csv(\"y_train.csv\", header=None,na_values=[' '])\n",
    "except:\n",
    "    print(\"Dataset could not be loaded. Is the dataset missing?\")"
   ]
  },
  {
   "cell_type": "code",
   "execution_count": 4,
   "metadata": {},
   "outputs": [
    {
     "data": {
      "text/html": [
       "<div>\n",
       "<style scoped>\n",
       "    .dataframe tbody tr th:only-of-type {\n",
       "        vertical-align: middle;\n",
       "    }\n",
       "\n",
       "    .dataframe tbody tr th {\n",
       "        vertical-align: top;\n",
       "    }\n",
       "\n",
       "    .dataframe thead th {\n",
       "        text-align: right;\n",
       "    }\n",
       "</style>\n",
       "<table border=\"1\" class=\"dataframe\">\n",
       "  <thead>\n",
       "    <tr style=\"text-align: right;\">\n",
       "      <th></th>\n",
       "      <th>0</th>\n",
       "      <th>1</th>\n",
       "      <th>2</th>\n",
       "      <th>3</th>\n",
       "      <th>4</th>\n",
       "      <th>5</th>\n",
       "      <th>6</th>\n",
       "      <th>7</th>\n",
       "      <th>8</th>\n",
       "      <th>9</th>\n",
       "      <th>...</th>\n",
       "      <th>991</th>\n",
       "      <th>992</th>\n",
       "      <th>993</th>\n",
       "      <th>994</th>\n",
       "      <th>995</th>\n",
       "      <th>996</th>\n",
       "      <th>997</th>\n",
       "      <th>998</th>\n",
       "      <th>999</th>\n",
       "      <th>1000</th>\n",
       "    </tr>\n",
       "  </thead>\n",
       "  <tbody>\n",
       "    <tr>\n",
       "      <th>0</th>\n",
       "      <td>0.606214</td>\n",
       "      <td>0.885170</td>\n",
       "      <td>0.827193</td>\n",
       "      <td>0.197169</td>\n",
       "      <td>0.560501</td>\n",
       "      <td>0.890003</td>\n",
       "      <td>1.183692</td>\n",
       "      <td>0.531270</td>\n",
       "      <td>1.010373</td>\n",
       "      <td>1.462041</td>\n",
       "      <td>...</td>\n",
       "      <td>1.499250</td>\n",
       "      <td>2.113217</td>\n",
       "      <td>1.447677</td>\n",
       "      <td>2.379565</td>\n",
       "      <td>1.806187</td>\n",
       "      <td>1.696898</td>\n",
       "      <td>0.662901</td>\n",
       "      <td>0.632434</td>\n",
       "      <td>7.619987</td>\n",
       "      <td>1f74519b-b170-4aa2-8976-0ccb30ead4a8</td>\n",
       "    </tr>\n",
       "    <tr>\n",
       "      <th>1</th>\n",
       "      <td>0.960236</td>\n",
       "      <td>0.761134</td>\n",
       "      <td>0.981690</td>\n",
       "      <td>0.460387</td>\n",
       "      <td>0.556353</td>\n",
       "      <td>0.841962</td>\n",
       "      <td>0.807776</td>\n",
       "      <td>0.408703</td>\n",
       "      <td>0.322817</td>\n",
       "      <td>2.292254</td>\n",
       "      <td>...</td>\n",
       "      <td>1.155194</td>\n",
       "      <td>0.408494</td>\n",
       "      <td>1.141338</td>\n",
       "      <td>3.194768</td>\n",
       "      <td>1.964883</td>\n",
       "      <td>0.473063</td>\n",
       "      <td>0.689351</td>\n",
       "      <td>0.618515</td>\n",
       "      <td>0.918748</td>\n",
       "      <td>b3864e3b-3fad-41b5-aaa1-bc5866bfc1e5</td>\n",
       "    </tr>\n",
       "    <tr>\n",
       "      <th>2</th>\n",
       "      <td>0.666303</td>\n",
       "      <td>0.791899</td>\n",
       "      <td>0.741582</td>\n",
       "      <td>0.203568</td>\n",
       "      <td>0.561863</td>\n",
       "      <td>0.865028</td>\n",
       "      <td>1.127813</td>\n",
       "      <td>0.636855</td>\n",
       "      <td>0.186862</td>\n",
       "      <td>0.688134</td>\n",
       "      <td>...</td>\n",
       "      <td>0.745066</td>\n",
       "      <td>0.371322</td>\n",
       "      <td>1.549863</td>\n",
       "      <td>2.834910</td>\n",
       "      <td>0.513000</td>\n",
       "      <td>0.691359</td>\n",
       "      <td>0.669160</td>\n",
       "      <td>0.609175</td>\n",
       "      <td>0.900033</td>\n",
       "      <td>fcd7a7d6-526f-4395-8906-e8cf9c901b96</td>\n",
       "    </tr>\n",
       "    <tr>\n",
       "      <th>3</th>\n",
       "      <td>0.344948</td>\n",
       "      <td>0.835305</td>\n",
       "      <td>0.874043</td>\n",
       "      <td>0.264302</td>\n",
       "      <td>0.564776</td>\n",
       "      <td>0.876306</td>\n",
       "      <td>0.226912</td>\n",
       "      <td>0.371902</td>\n",
       "      <td>0.408772</td>\n",
       "      <td>0.947090</td>\n",
       "      <td>...</td>\n",
       "      <td>1.260049</td>\n",
       "      <td>4.605839</td>\n",
       "      <td>0.569633</td>\n",
       "      <td>1.003212</td>\n",
       "      <td>0.700921</td>\n",
       "      <td>0.640504</td>\n",
       "      <td>0.719134</td>\n",
       "      <td>0.640261</td>\n",
       "      <td>3.250265</td>\n",
       "      <td>4c4b4768-1814-46dc-98a0-1af6aacfa727</td>\n",
       "    </tr>\n",
       "    <tr>\n",
       "      <th>4</th>\n",
       "      <td>1.753590</td>\n",
       "      <td>0.895283</td>\n",
       "      <td>0.561427</td>\n",
       "      <td>0.977942</td>\n",
       "      <td>0.564281</td>\n",
       "      <td>0.854353</td>\n",
       "      <td>0.220271</td>\n",
       "      <td>0.724181</td>\n",
       "      <td>1.255830</td>\n",
       "      <td>0.408187</td>\n",
       "      <td>...</td>\n",
       "      <td>1.019089</td>\n",
       "      <td>2.369277</td>\n",
       "      <td>0.620066</td>\n",
       "      <td>0.431046</td>\n",
       "      <td>0.381634</td>\n",
       "      <td>1.036588</td>\n",
       "      <td>0.680336</td>\n",
       "      <td>0.609462</td>\n",
       "      <td>0.109194</td>\n",
       "      <td>4e61ac09-3426-4604-bf0c-4a03b3da43ac</td>\n",
       "    </tr>\n",
       "  </tbody>\n",
       "</table>\n",
       "<p>5 rows × 1001 columns</p>\n",
       "</div>"
      ],
      "text/plain": [
       "       0         1         2         3         4         5         6     \\\n",
       "0  0.606214  0.885170  0.827193  0.197169  0.560501  0.890003  1.183692   \n",
       "1  0.960236  0.761134  0.981690  0.460387  0.556353  0.841962  0.807776   \n",
       "2  0.666303  0.791899  0.741582  0.203568  0.561863  0.865028  1.127813   \n",
       "3  0.344948  0.835305  0.874043  0.264302  0.564776  0.876306  0.226912   \n",
       "4  1.753590  0.895283  0.561427  0.977942  0.564281  0.854353  0.220271   \n",
       "\n",
       "       7         8         9     ...      991       992       993       994   \\\n",
       "0  0.531270  1.010373  1.462041  ...  1.499250  2.113217  1.447677  2.379565   \n",
       "1  0.408703  0.322817  2.292254  ...  1.155194  0.408494  1.141338  3.194768   \n",
       "2  0.636855  0.186862  0.688134  ...  0.745066  0.371322  1.549863  2.834910   \n",
       "3  0.371902  0.408772  0.947090  ...  1.260049  4.605839  0.569633  1.003212   \n",
       "4  0.724181  1.255830  0.408187  ...  1.019089  2.369277  0.620066  0.431046   \n",
       "\n",
       "       995       996       997       998       999   \\\n",
       "0  1.806187  1.696898  0.662901  0.632434  7.619987   \n",
       "1  1.964883  0.473063  0.689351  0.618515  0.918748   \n",
       "2  0.513000  0.691359  0.669160  0.609175  0.900033   \n",
       "3  0.700921  0.640504  0.719134  0.640261  3.250265   \n",
       "4  0.381634  1.036588  0.680336  0.609462  0.109194   \n",
       "\n",
       "                                   1000  \n",
       "0  1f74519b-b170-4aa2-8976-0ccb30ead4a8  \n",
       "1  b3864e3b-3fad-41b5-aaa1-bc5866bfc1e5  \n",
       "2  fcd7a7d6-526f-4395-8906-e8cf9c901b96  \n",
       "3  4c4b4768-1814-46dc-98a0-1af6aacfa727  \n",
       "4  4e61ac09-3426-4604-bf0c-4a03b3da43ac  \n",
       "\n",
       "[5 rows x 1001 columns]"
      ]
     },
     "execution_count": 4,
     "metadata": {},
     "output_type": "execute_result"
    }
   ],
   "source": [
    "xTrain.head()"
   ]
  },
  {
   "cell_type": "code",
   "execution_count": 5,
   "metadata": {},
   "outputs": [
    {
     "data": {
      "text/html": [
       "<div>\n",
       "<style scoped>\n",
       "    .dataframe tbody tr th:only-of-type {\n",
       "        vertical-align: middle;\n",
       "    }\n",
       "\n",
       "    .dataframe tbody tr th {\n",
       "        vertical-align: top;\n",
       "    }\n",
       "\n",
       "    .dataframe thead th {\n",
       "        text-align: right;\n",
       "    }\n",
       "</style>\n",
       "<table border=\"1\" class=\"dataframe\">\n",
       "  <thead>\n",
       "    <tr style=\"text-align: right;\">\n",
       "      <th></th>\n",
       "      <th>0</th>\n",
       "      <th>1</th>\n",
       "      <th>2</th>\n",
       "      <th>3</th>\n",
       "      <th>4</th>\n",
       "      <th>5</th>\n",
       "      <th>6</th>\n",
       "      <th>7</th>\n",
       "      <th>8</th>\n",
       "      <th>9</th>\n",
       "      <th>...</th>\n",
       "      <th>991</th>\n",
       "      <th>992</th>\n",
       "      <th>993</th>\n",
       "      <th>994</th>\n",
       "      <th>995</th>\n",
       "      <th>996</th>\n",
       "      <th>997</th>\n",
       "      <th>998</th>\n",
       "      <th>999</th>\n",
       "      <th>1000</th>\n",
       "    </tr>\n",
       "  </thead>\n",
       "  <tbody>\n",
       "    <tr>\n",
       "      <th>0</th>\n",
       "      <td>0.466986</td>\n",
       "      <td>0.940068</td>\n",
       "      <td>0.936647</td>\n",
       "      <td>1.916596</td>\n",
       "      <td>0.566261</td>\n",
       "      <td>0.845571</td>\n",
       "      <td>0.101800</td>\n",
       "      <td>0.327037</td>\n",
       "      <td>0.897099</td>\n",
       "      <td>1.312454</td>\n",
       "      <td>...</td>\n",
       "      <td>0.996853</td>\n",
       "      <td>1.035089</td>\n",
       "      <td>0.609449</td>\n",
       "      <td>0.058837</td>\n",
       "      <td>0.676833</td>\n",
       "      <td>0.482639</td>\n",
       "      <td>0.667861</td>\n",
       "      <td>0.636093</td>\n",
       "      <td>0.763367</td>\n",
       "      <td>c25ee611-c243-4808-84fc-c2abc579c0b0</td>\n",
       "    </tr>\n",
       "    <tr>\n",
       "      <th>1</th>\n",
       "      <td>0.728934</td>\n",
       "      <td>0.913009</td>\n",
       "      <td>0.702597</td>\n",
       "      <td>0.885783</td>\n",
       "      <td>0.565379</td>\n",
       "      <td>0.864201</td>\n",
       "      <td>0.336945</td>\n",
       "      <td>0.909036</td>\n",
       "      <td>3.366125</td>\n",
       "      <td>1.167272</td>\n",
       "      <td>...</td>\n",
       "      <td>1.133631</td>\n",
       "      <td>1.268683</td>\n",
       "      <td>1.007631</td>\n",
       "      <td>0.742551</td>\n",
       "      <td>0.673346</td>\n",
       "      <td>0.929803</td>\n",
       "      <td>0.802681</td>\n",
       "      <td>0.624777</td>\n",
       "      <td>0.333647</td>\n",
       "      <td>3a5f258c-5a37-4208-9eb6-acdf6942e13f</td>\n",
       "    </tr>\n",
       "    <tr>\n",
       "      <th>2</th>\n",
       "      <td>0.977341</td>\n",
       "      <td>0.807194</td>\n",
       "      <td>0.598666</td>\n",
       "      <td>0.289551</td>\n",
       "      <td>0.568274</td>\n",
       "      <td>0.847702</td>\n",
       "      <td>1.055096</td>\n",
       "      <td>0.612615</td>\n",
       "      <td>1.259868</td>\n",
       "      <td>0.136373</td>\n",
       "      <td>...</td>\n",
       "      <td>1.081810</td>\n",
       "      <td>0.280314</td>\n",
       "      <td>1.421475</td>\n",
       "      <td>2.281617</td>\n",
       "      <td>0.413037</td>\n",
       "      <td>0.583962</td>\n",
       "      <td>0.660914</td>\n",
       "      <td>0.619148</td>\n",
       "      <td>0.470799</td>\n",
       "      <td>23c7989a-249b-4498-afa3-dd02c5ea1a15</td>\n",
       "    </tr>\n",
       "    <tr>\n",
       "      <th>3</th>\n",
       "      <td>0.225681</td>\n",
       "      <td>0.900849</td>\n",
       "      <td>0.851252</td>\n",
       "      <td>0.123085</td>\n",
       "      <td>0.561047</td>\n",
       "      <td>0.938914</td>\n",
       "      <td>0.353739</td>\n",
       "      <td>0.441253</td>\n",
       "      <td>0.553648</td>\n",
       "      <td>0.225964</td>\n",
       "      <td>...</td>\n",
       "      <td>0.879359</td>\n",
       "      <td>1.052568</td>\n",
       "      <td>1.828610</td>\n",
       "      <td>0.746832</td>\n",
       "      <td>0.929029</td>\n",
       "      <td>0.888206</td>\n",
       "      <td>0.644901</td>\n",
       "      <td>0.637947</td>\n",
       "      <td>0.461205</td>\n",
       "      <td>134866d9-e72e-4b76-abc1-6f6347c4b2af</td>\n",
       "    </tr>\n",
       "    <tr>\n",
       "      <th>4</th>\n",
       "      <td>0.411694</td>\n",
       "      <td>0.727791</td>\n",
       "      <td>0.805261</td>\n",
       "      <td>0.292094</td>\n",
       "      <td>0.561952</td>\n",
       "      <td>0.926761</td>\n",
       "      <td>0.556427</td>\n",
       "      <td>0.482158</td>\n",
       "      <td>0.592753</td>\n",
       "      <td>0.523023</td>\n",
       "      <td>...</td>\n",
       "      <td>1.354237</td>\n",
       "      <td>1.208800</td>\n",
       "      <td>0.356954</td>\n",
       "      <td>0.928384</td>\n",
       "      <td>3.617595</td>\n",
       "      <td>1.053306</td>\n",
       "      <td>0.663670</td>\n",
       "      <td>0.626969</td>\n",
       "      <td>1.038405</td>\n",
       "      <td>09bd3970-3745-4074-bc68-2f656e49c6cb</td>\n",
       "    </tr>\n",
       "  </tbody>\n",
       "</table>\n",
       "<p>5 rows × 1001 columns</p>\n",
       "</div>"
      ],
      "text/plain": [
       "       0         1         2         3         4         5         6     \\\n",
       "0  0.466986  0.940068  0.936647  1.916596  0.566261  0.845571  0.101800   \n",
       "1  0.728934  0.913009  0.702597  0.885783  0.565379  0.864201  0.336945   \n",
       "2  0.977341  0.807194  0.598666  0.289551  0.568274  0.847702  1.055096   \n",
       "3  0.225681  0.900849  0.851252  0.123085  0.561047  0.938914  0.353739   \n",
       "4  0.411694  0.727791  0.805261  0.292094  0.561952  0.926761  0.556427   \n",
       "\n",
       "       7         8         9     ...      991       992       993       994   \\\n",
       "0  0.327037  0.897099  1.312454  ...  0.996853  1.035089  0.609449  0.058837   \n",
       "1  0.909036  3.366125  1.167272  ...  1.133631  1.268683  1.007631  0.742551   \n",
       "2  0.612615  1.259868  0.136373  ...  1.081810  0.280314  1.421475  2.281617   \n",
       "3  0.441253  0.553648  0.225964  ...  0.879359  1.052568  1.828610  0.746832   \n",
       "4  0.482158  0.592753  0.523023  ...  1.354237  1.208800  0.356954  0.928384   \n",
       "\n",
       "       995       996       997       998       999   \\\n",
       "0  0.676833  0.482639  0.667861  0.636093  0.763367   \n",
       "1  0.673346  0.929803  0.802681  0.624777  0.333647   \n",
       "2  0.413037  0.583962  0.660914  0.619148  0.470799   \n",
       "3  0.929029  0.888206  0.644901  0.637947  0.461205   \n",
       "4  3.617595  1.053306  0.663670  0.626969  1.038405   \n",
       "\n",
       "                                   1000  \n",
       "0  c25ee611-c243-4808-84fc-c2abc579c0b0  \n",
       "1  3a5f258c-5a37-4208-9eb6-acdf6942e13f  \n",
       "2  23c7989a-249b-4498-afa3-dd02c5ea1a15  \n",
       "3  134866d9-e72e-4b76-abc1-6f6347c4b2af  \n",
       "4  09bd3970-3745-4074-bc68-2f656e49c6cb  \n",
       "\n",
       "[5 rows x 1001 columns]"
      ]
     },
     "execution_count": 5,
     "metadata": {},
     "output_type": "execute_result"
    }
   ],
   "source": [
    "xTest.head()"
   ]
  },
  {
   "cell_type": "code",
   "execution_count": 6,
   "metadata": {},
   "outputs": [
    {
     "data": {
      "text/html": [
       "<div>\n",
       "<style scoped>\n",
       "    .dataframe tbody tr th:only-of-type {\n",
       "        vertical-align: middle;\n",
       "    }\n",
       "\n",
       "    .dataframe tbody tr th {\n",
       "        vertical-align: top;\n",
       "    }\n",
       "\n",
       "    .dataframe thead th {\n",
       "        text-align: right;\n",
       "    }\n",
       "</style>\n",
       "<table border=\"1\" class=\"dataframe\">\n",
       "  <thead>\n",
       "    <tr style=\"text-align: right;\">\n",
       "      <th></th>\n",
       "      <th>0</th>\n",
       "      <th>1</th>\n",
       "    </tr>\n",
       "  </thead>\n",
       "  <tbody>\n",
       "    <tr>\n",
       "      <th>0</th>\n",
       "      <td>1f74519b-b170-4aa2-8976-0ccb30ead4a8</td>\n",
       "      <td>3</td>\n",
       "    </tr>\n",
       "    <tr>\n",
       "      <th>1</th>\n",
       "      <td>b3864e3b-3fad-41b5-aaa1-bc5866bfc1e5</td>\n",
       "      <td>1</td>\n",
       "    </tr>\n",
       "    <tr>\n",
       "      <th>2</th>\n",
       "      <td>fcd7a7d6-526f-4395-8906-e8cf9c901b96</td>\n",
       "      <td>3</td>\n",
       "    </tr>\n",
       "    <tr>\n",
       "      <th>3</th>\n",
       "      <td>4c4b4768-1814-46dc-98a0-1af6aacfa727</td>\n",
       "      <td>4</td>\n",
       "    </tr>\n",
       "    <tr>\n",
       "      <th>4</th>\n",
       "      <td>4e61ac09-3426-4604-bf0c-4a03b3da43ac</td>\n",
       "      <td>3</td>\n",
       "    </tr>\n",
       "  </tbody>\n",
       "</table>\n",
       "</div>"
      ],
      "text/plain": [
       "                                      0  1\n",
       "0  1f74519b-b170-4aa2-8976-0ccb30ead4a8  3\n",
       "1  b3864e3b-3fad-41b5-aaa1-bc5866bfc1e5  1\n",
       "2  fcd7a7d6-526f-4395-8906-e8cf9c901b96  3\n",
       "3  4c4b4768-1814-46dc-98a0-1af6aacfa727  4\n",
       "4  4e61ac09-3426-4604-bf0c-4a03b3da43ac  3"
      ]
     },
     "execution_count": 6,
     "metadata": {},
     "output_type": "execute_result"
    }
   ],
   "source": [
    "yTrain.head()"
   ]
  },
  {
   "cell_type": "code",
   "execution_count": 7,
   "metadata": {},
   "outputs": [
    {
     "name": "stdout",
     "output_type": "stream",
     "text": [
      "(1200, 1001)\n",
      "(1200, 2)\n",
      "(4800, 1001)\n"
     ]
    }
   ],
   "source": [
    "print(xTrain.shape)\n",
    "print(yTrain.shape)\n",
    "print(xTest.shape)"
   ]
  },
  {
   "cell_type": "code",
   "execution_count": 9,
   "metadata": {},
   "outputs": [],
   "source": [
    "trainingUserIds = xTrain.iloc[:,-1]\n",
    "#print(trainingUserIds)\n",
    "testUserIds = xTest.iloc[:,[-1]]\n",
    "#print(testUserIds)\n",
    "#xTrain.set_index(['1000'], inplace=True)\n",
    "#xTrain.head(5)"
   ]
  },
  {
   "cell_type": "code",
   "execution_count": 10,
   "metadata": {},
   "outputs": [
    {
     "name": "stdout",
     "output_type": "stream",
     "text": [
      "(1200, 1000)\n",
      "(4800, 1000)\n"
     ]
    }
   ],
   "source": [
    "xTrain = xTrain[xTrain.columns[0:1000]]\n",
    "xTest = xTest[xTest.columns[0:1000]]\n",
    "\n",
    "print(xTrain.shape)\n",
    "print(xTest.shape)"
   ]
  },
  {
   "cell_type": "code",
   "execution_count": 11,
   "metadata": {},
   "outputs": [
    {
     "data": {
      "text/plain": [
       "<matplotlib.axes._subplots.AxesSubplot at 0x1a2c3d1d68>"
      ]
     },
     "execution_count": 11,
     "metadata": {},
     "output_type": "execute_result"
    },
    {
     "data": {
      "image/png": "[encoded data removed]",
      "text/plain": [
       "<Figure size 432x288 with 1 Axes>"
      ]
     },
     "metadata": {
      "needs_background": "light"
     },
     "output_type": "display_data"
    }
   ],
   "source": [
    "sns.distplot(yTrain.iloc[:,1])"
   ]
  },
  {
   "cell_type": "code",
   "execution_count": 12,
   "metadata": {},
   "outputs": [],
   "source": [
    "xTrain = np.array(xTrain)\n",
    "xTest = np.array(xTest)\n"
   ]
  },
  {
   "cell_type": "code",
   "execution_count": 13,
   "metadata": {},
   "outputs": [],
   "source": [
    "stdFeatures = np.std(xTrain, axis = 0)\n"
   ]
  },
  {
   "cell_type": "code",
   "execution_count": 14,
   "metadata": {},
   "outputs": [
    {
     "data": {
      "text/plain": [
       "<matplotlib.axes._subplots.AxesSubplot at 0x104d8f2e8>"
      ]
     },
     "execution_count": 14,
     "metadata": {},
     "output_type": "execute_result"
    },
    {
     "data": {
      "image/png": "[encoded data removed]",
      "text/plain": [
       "<Figure size 432x288 with 1 Axes>"
      ]
     },
     "metadata": {
      "needs_background": "light"
     },
     "output_type": "display_data"
    }
   ],
   "source": [
    "sns.lineplot(range(1000),np.sort(stdFeatures))"
   ]
  },
  {
   "cell_type": "code",
   "execution_count": 15,
   "metadata": {},
   "outputs": [],
   "source": [
    "nFeatures = 200\n",
    "index = stdFeatures.argsort()[-nFeatures:][::-1]"
   ]
  },
  {
   "cell_type": "code",
   "execution_count": null,
   "metadata": {},
   "outputs": [],
   "source": [
    "#stdFeatures[index]"
   ]
  },
  {
   "cell_type": "code",
   "execution_count": 19,
   "metadata": {},
   "outputs": [],
   "source": [
    "xTrain_norm = copy.deepcopy(xTrain[:,index]) #[:,index]\n",
    "xTest_norm = copy.deepcopy(xTest[:,index]) #[:,index]\n",
    "meanXtrain = np.mean(xTrain_norm,axis=0)\n",
    "stdXtrain = np.std(xTrain_norm,axis=0)\n",
    "\n",
    "xTrain_norm = (xTrain_norm-meanXtrain)/stdXtrain\n",
    "xTest_norm = (xTest_norm-meanXtrain)/stdXtrain\n",
    "\n"
   ]
  },
  {
   "cell_type": "code",
   "execution_count": 20,
   "metadata": {},
   "outputs": [
    {
     "data": {
      "image/png": "[encoded data removed]",
      "text/plain": [
       "<Figure size 576x576 with 1 Axes>"
      ]
     },
     "metadata": {
      "needs_background": "light"
     },
     "output_type": "display_data"
    }
   ],
   "source": [
    "pca = PCA(n_components = 2)\n",
    "pca.fit(xTrain_norm)\n",
    "xPCA = pca.transform(xTrain_norm)\n",
    "\n",
    "principalDf = pd.DataFrame(data = xPCA\n",
    "            , columns = ['principal component 1', 'principal component 2'])\n",
    "target = pd.DataFrame(yTrain.iloc[:,1])\n",
    "#print(target)\n",
    "finalDf = pd.concat([principalDf, target], axis = 1)\n",
    "finalDf.rename(columns={1: 'target'}, inplace=True)\n",
    "#print('PCA plot before correcting for technical variation (noise) i.e., device specific')\n",
    "\n",
    "\n",
    "fig = plt.figure(figsize = (8,8))\n",
    "ax = fig.add_subplot(1,1,1) \n",
    "ax.set_xlabel('Principal Component 1', fontsize = 15)\n",
    "ax.set_ylabel('Principal Component 2', fontsize = 15)\n",
    "ax.set_title('PCA plot', fontsize = 20)\n",
    "targets = [1, 2, 3, 4, 5, 6]\n",
    "colors = ['r', 'b', 'c', 'g', 'm', 'y']\n",
    "for target, color in zip(targets,colors):\n",
    "    indicesToKeep = finalDf['target'] == target\n",
    "    ax.scatter(finalDf.loc[indicesToKeep, 'principal component 1']\n",
    "               , finalDf.loc[indicesToKeep, 'principal component 2']\n",
    "               , c = color\n",
    "               , s = 50)\n",
    "ax.legend(targets)\n",
    "ax.grid()"
   ]
  },
  {
   "cell_type": "code",
   "execution_count": null,
   "metadata": {},
   "outputs": [],
   "source": [
    "#encoder = LabelEncoder()\n",
    "#encoder.fit(yTrain.iloc[:,1])\n",
    "#encoded_Y = encoder.transform(yTrain.iloc[:,1])\n",
    "# convert integers to dummy variables (i.e. one hot encoded)\n",
    "#encoded_Y"
   ]
  },
  {
   "cell_type": "code",
   "execution_count": 22,
   "metadata": {},
   "outputs": [],
   "source": [
    "dummy_y = pd.get_dummies(yTrain.iloc[:,1])#np_utils.to_categorical(encoded_Y)\n",
    "#dummy_y"
   ]
  },
  {
   "cell_type": "code",
   "execution_count": 23,
   "metadata": {},
   "outputs": [],
   "source": [
    "dummy_y = np.array(dummy_y)\n",
    "#dummy_y"
   ]
  },
  {
   "cell_type": "code",
   "execution_count": 24,
   "metadata": {},
   "outputs": [
    {
     "data": {
      "text/plain": [
       "(1200, 200)"
      ]
     },
     "execution_count": 24,
     "metadata": {},
     "output_type": "execute_result"
    }
   ],
   "source": [
    "xTrain_norm.shape"
   ]
  },
  {
   "cell_type": "code",
   "execution_count": 25,
   "metadata": {},
   "outputs": [
    {
     "data": {
      "text/plain": [
       "(1200, 6)"
      ]
     },
     "execution_count": 25,
     "metadata": {},
     "output_type": "execute_result"
    }
   ],
   "source": [
    "dummy_y.shape"
   ]
  },
  {
   "cell_type": "code",
   "execution_count": null,
   "metadata": {},
   "outputs": [],
   "source": [
    "#pca = KernelPCA(n_components = 10)\n",
    "#pca.fit(xTrain_norm)\n",
    "#xPCA = pca.transform(xTrain_norm)\n",
    "#xPCA_test = pca.transform(xTest_norm)"
   ]
  },
  {
   "cell_type": "markdown",
   "metadata": {},
   "source": [
    "###The solution(?):\n",
    "Since my knowledge about the given problem was limited, therefore it was difficult to formulate the correct assumptions to model non-linear or complex relationships. I, therefore, compared various machine learning models and chose the model that provided best classification performance and is better generalizable. To put into context, I evaluated Random Forest (RF), Logistic Regression (LR) and a state-of-the-art non-parameteric K-Nearest Neighbor (KNN) models on the task of classifying new samples into two classes.\n",
    "\n",
    "As a model selection procedure, I performed 10-fold cross-validation (CV) on the training data, wherein each fold of the CV run, 1/10th of the data was used as a validation set at random, while the model was trained on the other 9/10 data. Since each model has specific parameters to be tuned (aka Hyperparameters), a nested Randomized CV approach was adopted for that purpose.\n",
    "\n",
    "And, for each modeling approach, predictive performances were avraged across the validation set predictions obtained from a each round of CV experiment. Mainly, the accuracy and hamming loss performance metric are used to evaluate the efficient model.\n",
    "\n",
    "In simple words, training data was used to tune the hyperparameters and validation data was utilized to assess the predictive performance and to select the best model. The test set predictions were generated using the best model.\n",
    "\n",
    "###Hyperparameter Tuning and Model Selection:\n",
    "In a machine learning model, hyperparameters represents the our prior beliefs about the model structure and the underlying data generation process. Since we have little knowledge about the real-world process and the degree of noise that has corrupted the data, it is difficult to fix suitable hyperparameters apriori. We have to resort to optimization methods to supplement our beliefs on the potentially appropriate choices of the hyperparameters. The performance and generalisation properties of model is very dependent on values chosen for the hyper-parameters. As the number of hyper-parameters and the number of values they can have increases the more complex the hyper-parameter optimisation problem becomes.\n",
    "\n",
    "Grid Search, a typical approach to hyper-parameter tuning is to build the ML model in question, over all the data for different combination of hyper-parameters. So for 2 hyper-parameters, the first with 3 possible values and the second with 5 then a total of 15 models would need to be built and tested to find the optimal hyper-parameter configuration. If each hyper-parameter had 10 possible values then 100 comparisons would be required. It is easily seen the number of possible hyper-parameter configurations increases exponentially with the number of hyper-parameters and the number of values they can have.\n",
    "\n",
    "On the contrary, a randomised search approach to hyper-parameter tuning is known to be more efficient than a grid-search in terms of computational time. Randomised search means searches are not wasted on parts of the hyper-parameter grid which have little influence on the performance of the model based on the low effective dimension of the hyper-parameter space. Thus, I chose RandomizedSearchCV as a hyperparamter tuning and model selection procedure."
   ]
  },
  {
   "cell_type": "code",
   "execution_count": 33,
   "metadata": {},
   "outputs": [],
   "source": [
    "#define hyperparamters and CV configurations\n",
    "nFolds = 10\n",
    "randomIterations = 10\n",
    "cv = KFold(n_splits=nFolds)\n",
    "\n",
    "\n",
    "param_grid = {#'SVC':{\"C\": sp_randint(1, 1e5),\n",
    "              #       \"gamma\": [0.0001, 0.0005, 0.001, 0.005, 0.01, 0.1,0.5,1.0],\n",
    "              #       \"kernel\": ['rbf']},\n",
    "              \n",
    "             'KNN':{\"n_neighbors\":sp_randint(2, 10),\n",
    "                   \"algorithm\":[\"ball_tree\",\"kd_tree\",\"brute\",\"auto\"],\n",
    "                   \"p\":[1,2]},\n",
    "            'LR':{\"l1_ratio\": [0.1, 0.2, 0.3, 0.4, 0.5, 0.6, 0.7, 0.8, 0.9]},\n",
    "             #'GB': {\"loss\":[\"deviance\",\"exponential\"],\n",
    "             #       \"n_estimators\": sp_randint(100, 500),\n",
    "             #       \"max_depth\": sp_randint(3, 15),\n",
    "             #       \"max_features\": [\"auto\",\"sqrt\",\"log2\",None],\n",
    "             #       \"min_samples_split\": sp_randint(2, 3),\n",
    "             #       \"min_samples_leaf\": sp_randint(2, 3),\n",
    "             #       \"learning_rate\":[0.0001, 0.001, 0.01, 0.05, 0.1, 0.5]}\n",
    "            'RF': {\"n_estimators\": sp_randint(100, 150),\n",
    "                     \"max_depth\": sp_randint(3, 10),\n",
    "                     \"max_features\": sp_randint(2, 3),\n",
    "                     \"min_samples_split\": sp_randint(2, 3),\n",
    "                     \"min_samples_leaf\": sp_randint(1, 3)},\n",
    "             }\n",
    "\n",
    "#set RandomizedCV approach for the model selection and hyperparameter tuning\n",
    "classifiers = ['KNN', RandomizedSearchCV(KNeighborsClassifier(weights='distance'), \n",
    "                                        param_distributions=param_grid['KNN'],n_iter=randomIterations,cv=nFolds,scoring='accuracy'),\n",
    "               'LR', RandomizedSearchCV(LogisticRegression(penalty='elasticnet',fit_intercept=False,multi_class='multinomial'), \n",
    "                                        param_distributions=param_grid['LR'],n_iter=randomIterations,cv=nFolds,scoring='accuracy')]\n",
    "            #'RF', RandomizedSearchCV(estimator=RandomForestClassifier(class_weight=\"balanced_subsample\", oob_score=True,random_state=RANDOM_STATE), \n",
    "            #                            param_distributions=param_grid['RF'],n_iter=randomIterations,cv=nFolds,scoring='balanced_accuracy')]\n",
    "    \n",
    "    \n",
    "               #'GB', RandomizedSearchCV(estimator=GradientBoostingClassifier(random_state=RANDOM_STATE), \n",
    "               #                         param_distributions=param_grid['GB'],n_iter=randomIterations,cv=nFolds,scoring='roc_auc'),\n",
    "               #'SVC', RandomizedSearchCV(SVC(probability=True,random_state=RANDOM_STATE,class_weight='balanced'), #class_weight='balanced',\n",
    "               #                         param_distributions=param_grid['SVC'],n_iter=randomIterations,cv=nFolds,scoring='roc_auc'),\n",
    "                                     \n",
    "\n",
    "\n",
    "#make model evaluation pipelines\n",
    "pipelines = [\n",
    "    ['{}'.format(classifiers[0]),\n",
    "     classifiers[1]], #RF\n",
    "    #['{}'.format(classifiers[2]),\n",
    "    # classifiers[3]], #GB\n",
    "    #['{}'.format(classifiers[4]), \n",
    "    # classifiers[5]], #SVC\n",
    "    ['{}'.format(classifiers[1]), classifiers[1]] #KNN\n",
    "    #['{}'.format(classifiers[2]), classifiers[1]]\n",
    "]"
   ]
  },
  {
   "cell_type": "code",
   "execution_count": 34,
   "metadata": {},
   "outputs": [
    {
     "name": "stdout",
     "output_type": "stream",
     "text": [
      "{Model} KNN\n",
      "Accuracy: 0.22999999999999998\n",
      "Hamming score: 0.22999999999999998\n",
      "{Model} RandomizedSearchCV(cv=10, error_score='raise-deprecating',\n",
      "          estimator=KNeighborsClassifier(algorithm='auto', leaf_size=30, metric='minkowski',\n",
      "           metric_params=None, n_jobs=None, n_neighbors=5, p=2,\n",
      "           weights='distance'),\n",
      "          fit_params=None, iid='warn', n_iter=10, n_jobs=None,\n",
      "          param_distributions={'n_neighbors': <scipy.stats._distn_infrastructure.rv_frozen object at 0x1a31898a58>, 'algorithm': ['ball_tree', 'kd_tree', 'brute', 'auto'], 'p': [1, 2]},\n",
      "          pre_dispatch='2*n_jobs', random_state=None, refit=True,\n",
      "          return_train_score='warn', scoring='accuracy', verbose=0)\n",
      "Accuracy: 0.22916666666666666\n",
      "Hamming score: 0.22916666666666666\n"
     ]
    }
   ],
   "source": [
    "for name, pipeline in pipelines:\n",
    "    print(\"{Model}\", name)\n",
    "    accuracy = 0.0\n",
    "    hLoss = 0.0\n",
    "    \n",
    "    for train, test in cv.split(xTrain_norm, dummy_y):\n",
    "        yPred = pipeline.fit(xTrain_norm[train], dummy_y[train]).predict(xTrain_norm[test])\n",
    "        accuracy += accuracy_score(dummy_y[test], yPred, normalize=True, sample_weight=None)\n",
    "        hLoss += hamming_score(dummy_y[test], yPred)\n",
    "        \n",
    "    accuracy /= nFolds\n",
    "    hLoss /= nFolds\n",
    "\n",
    "    print('Accuracy: {0}'.format(accuracy))\n",
    "    print('Hamming score: {0}'.format(hLoss))\n",
    "    \n"
   ]
  },
  {
   "cell_type": "markdown",
   "metadata": {},
   "source": [
    "### Model selction for production\n",
    "As seen from the CV results that both KNN and LR (regularized version) gave very similar performances, I choose KNN to run in production. Mainly, because KNN is a non parametric model and requires less resources compared to LR. In LR the number of parameters is eqivalent to the number of features and thus require more fine-tunning as compared to the KNN model.  "
   ]
  },
  {
   "cell_type": "code",
   "execution_count": 44,
   "metadata": {},
   "outputs": [
    {
     "name": "stdout",
     "output_type": "stream",
     "text": [
      "{{Model} :  KNN\n"
     ]
    }
   ],
   "source": [
    "name= pipelines[0][0] \n",
    "pipeline = pipelines[0][1]\n",
    "\n",
    "\n",
    "print(\"{{Model} : \", name)\n",
    "\n",
    "\n",
    "model = pipeline.fit(xTrain_norm, dummy_y)\n",
    "yPred = model.predict(xTest_norm)\n",
    "\n"
   ]
  },
  {
   "cell_type": "code",
   "execution_count": 45,
   "metadata": {},
   "outputs": [],
   "source": [
    "yPred = pd.DataFrame(yPred, columns=['1','2','3','4','5','6'])\n"
   ]
  },
  {
   "cell_type": "code",
   "execution_count": 49,
   "metadata": {},
   "outputs": [],
   "source": [
    "predictions = copy.deepcopy(yPred)"
   ]
  },
  {
   "cell_type": "code",
   "execution_count": 50,
   "metadata": {},
   "outputs": [],
   "source": [
    "\n",
    "predictions = pd.DataFrame(predictions.columns[np.where(yPred!=0)[1]])\n",
    "testUserIds = pd.DataFrame(testUserIds)\n",
    "\n",
    "predictions = pd.concat([testUserIds,predictions],axis=1)\n",
    "\n",
    "predictions.columns = ['user_id','class']"
   ]
  },
  {
   "cell_type": "code",
   "execution_count": 105,
   "metadata": {},
   "outputs": [],
   "source": [
    "#predictions"
   ]
  },
  {
   "cell_type": "code",
   "execution_count": 52,
   "metadata": {},
   "outputs": [],
   "source": [
    "predictions.to_csv('predictions.csv')"
   ]
  },
  {
   "cell_type": "code",
   "execution_count": 53,
   "metadata": {},
   "outputs": [],
   "source": [
    "cpickle.dump(predictions, open(\"predictions.pkl\", \"wb\"))"
   ]
  },
  {
   "cell_type": "markdown",
   "metadata": {},
   "source": [
    "\n",
    "### To run the API\n",
    " a- open the terminal and write: python operationlize_sanome_project.py \n",
    "### To get the predictions from API\n",
    " b- Run the snippet on the terminal or inside the jupyter notebook.\n"
   ]
  },
  {
   "cell_type": "code",
   "execution_count": 104,
   "metadata": {},
   "outputs": [
    {
     "name": "stdout",
     "output_type": "stream",
     "text": [
      "{'class': 3}\n"
     ]
    }
   ],
   "source": [
    "url = \"http://localhost:9000/predictions\"\n",
    "data = json.dumps({'user_id':'c25ee611-c243-4808-84fc-c2abc579c0b0'}) \n",
    "r = requests.post(url, data)\n",
    "\n",
    "print(r.json())"
   ]
  },
  {
   "cell_type": "markdown",
   "metadata": {},
   "source": [
    "\n",
    "### Answer to the questions\n",
    "\n",
    "1) What were the most important technical decisions and on what grounds did\n",
    "   you make them?\n",
    "   \n",
    "        a- Reducing the dimensionality by choosing the features which have high variance/std.\n",
    "        b- Testing the models which have relatvely low cost (computation time)\n",
    "        c- Model complexity selection using the Randomize Cross Validation as Grid Search is more expensive\n",
    "        d- PCA analysis shows that there are inhereent non-linearities , a model that can capture non-linear relationships would be better choice. \n",
    "   \n",
    "2) How would you communicate prediction quality to a business stakeholder?\n",
    "   Assume limited knowledge of statistics or machine learning on their part.\n",
    "   \n",
    "           a. In a stratified KFold settings, a random baseline would have given a 100/6 = 16.6% accuracy (since there are 6 labels). A machine learning model yielding an average 23% accuracy indicates that the predictions would be 7% more accurate compare to when no machine learning model is used. \n",
    "   \n",
    "3) If time and/or interest had permitted, how would you have improved on your\n",
    "   solution?\n",
    "\n",
    "       a. Further data exploration to understand more about the data\n",
    "       b. Stratified KFold to choose the hyperparameter (as some classes have very small number of labels)\n",
    "       c. Further exploring the dimensionality reduction approaches. \n",
    "       d. Evaluation metrics that take into account the multi-label predictions (e.g., balance accuracy)\n",
    "\n"
   ]
  }
 ],
 "metadata": {
  "kernelspec": {
   "display_name": "Python 3",
   "language": "python",
   "name": "python3"
  },
  "language_info": {
   "codemirror_mode": {
    "name": "ipython",
    "version": 3
   },
   "file_extension": ".py",
   "mimetype": "text/x-python",
   "name": "python",
   "nbconvert_exporter": "python",
   "pygments_lexer": "ipython3",
   "version": "3.7.3"
  }
 },
 "nbformat": 4,
 "nbformat_minor": 2
}
